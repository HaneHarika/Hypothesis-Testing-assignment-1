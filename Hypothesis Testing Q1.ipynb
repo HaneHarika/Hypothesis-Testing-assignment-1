import pandas as pd
import numpy as np
from scipy import stats
from scipy.stats import norm

Database = pd.read_csv("C:/Users/AISHWARYA/Downloads/Cutlets.csv")

Database.head()


unitA=pd.Series(Database.iloc[:,0])
unitA

unitB=pd.Series(Database.iloc[:,1])
unitB

# 2-sample 2-tail ttest:   stats.ttest_ind(array1,array2)     # ind -> independent samples
p_value=stats.ttest_ind(unitA,unitB)
p_value

p_value[1]     # 2-tail probability


# compare p_value with α = 0.05 (At 5% significance level)


nference: As (p_value=0.4722) > (α = 0.05); Accept Null Hypothesis i.e. μ1 = μ2 ( Thus, there is no difference in diameters of cutlets between two units